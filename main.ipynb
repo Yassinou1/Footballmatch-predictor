{
 "cells": [
  {
   "metadata": {},
   "cell_type": "markdown",
   "source": "Match predicter for national football",
   "id": "2747c63815c79274"
  },
  {
   "metadata": {
    "ExecuteTime": {
     "end_time": "2025-08-23T16:28:57.919563Z",
     "start_time": "2025-08-23T16:28:57.713892Z"
    }
   },
   "cell_type": "code",
   "source": [
    "import pandas as pd\n",
    "import numpy as np\n",
    "import matplotlib.pyplot as plt\n",
    "import seaborn as sns\n",
    "from sklearn.metrics import confusion_matrix, ConfusionMatrixDisplay\n",
    "import scipy.stats as stats\n",
    "from sklearn.model_selection import train_test_split\n",
    "from sklearn.ensemble import RandomForestClassifier\n",
    "from sklearn.metrics import accuracy_score, classification_report\n",
    "from sklearn.preprocessing import LabelEncoder\n",
    "\n",
    "#import\n",
    "df = pd.read_csv('results.csv')"
   ],
   "id": "34d0ef92877b9714",
   "outputs": [],
   "execution_count": 73
  },
  {
   "metadata": {
    "ExecuteTime": {
     "end_time": "2025-08-23T16:25:20.465546Z",
     "start_time": "2025-08-23T16:25:20.447463Z"
    }
   },
   "cell_type": "code",
   "source": [
    "#filtering\n",
    "rel_tournaments = [\n",
    "    'FIFA World Cup',\n",
    "    'UEFA Nations League',\n",
    "    'UEFA Euro',\n",
    "    'AFC Asian Cup',\n",
    "    'African Cup of Nations',\n",
    "    'Gold Cup',\n",
    "    'Copa América',\n",
    "    'Oceania Nations Cup'\n",
    "]\n",
    "\n",
    "df_filtered = df[df['tournament'].isin(rel_tournaments)].copy() #why copy?\n",
    "\n",
    "df_filtered = df_filtered[['date','home_team','away_team','home_score','away_score','tournament']]"
   ],
   "id": "2e6624ec6ace2024",
   "outputs": [],
   "execution_count": 62
  },
  {
   "metadata": {
    "ExecuteTime": {
     "end_time": "2025-08-23T16:16:43.660740Z",
     "start_time": "2025-08-23T16:16:43.651612Z"
    }
   },
   "cell_type": "code",
   "source": [
    "#print first lines\n",
    "print(df_filtered.head())"
   ],
   "id": "c77de18956270a39",
   "outputs": [
    {
     "name": "stdout",
     "output_type": "stream",
     "text": [
      "           date  home_team away_team  home_score  away_score    tournament\n",
      "478  1916-07-02      Chile   Uruguay           0           4  Copa América\n",
      "480  1916-07-06  Argentina     Chile           6           1  Copa América\n",
      "481  1916-07-08     Brazil     Chile           1           1  Copa América\n",
      "482  1916-07-10  Argentina    Brazil           1           1  Copa América\n",
      "484  1916-07-12     Brazil   Uruguay           1           2  Copa América\n"
     ]
    }
   ],
   "execution_count": 55
  },
  {
   "metadata": {},
   "cell_type": "markdown",
   "source": "create pred. var\n",
   "id": "8c564c1ed4e49a3a"
  },
  {
   "metadata": {
    "ExecuteTime": {
     "end_time": "2025-08-23T16:25:24.752665Z",
     "start_time": "2025-08-23T16:25:24.667937Z"
    }
   },
   "cell_type": "code",
   "source": [
    "def determineResult(row):\n",
    "    if row['home_score'] > row['away_score']:\n",
    "        return 'H'  # Home won\n",
    "    elif row['home_score'] < row['away_score']:\n",
    "        return 'A'  # Away won\n",
    "    else:\n",
    "        return 'D'  # tie\n",
    "\n",
    "df_filtered['result'] = df_filtered.apply(determineResult, axis=1)"
   ],
   "id": "14c5df0591303910",
   "outputs": [],
   "execution_count": 63
  },
  {
   "metadata": {},
   "cell_type": "markdown",
   "source": "*Prepare train test data",
   "id": "90a25a16fe7792ed"
  },
  {
   "metadata": {
    "ExecuteTime": {
     "end_time": "2025-08-23T16:31:37.568106Z",
     "start_time": "2025-08-23T16:31:37.532649Z"
    }
   },
   "cell_type": "code",
   "source": [
    "#simple feature engineering\n",
    "le = LabelEncoder()\n",
    "all_teams = pd.concat([df_filtered['home_team'], df_filtered['away_team']]).unique()\n",
    "le.fit(all_teams)\n",
    "\n",
    "df_filtered['home_id'] = le.transform(df_filtered['home_team'])\n",
    "df_filtered['away_id'] = le.transform(df_filtered['away_team'])\n",
    "\n",
    "#create ids\n",
    "tournament_encoder = LabelEncoder()\n",
    "df_filtered['tournament_id'] = tournament_encoder.fit_transform(df_filtered['tournament'])\n",
    "\n",
    "features = ['home_id', 'away_id', 'tournament_id']\n",
    "target = 'result'\n",
    "\n",
    "df_filtered"
   ],
   "id": "5aba1d10a6596fb7",
   "outputs": [
    {
     "data": {
      "text/plain": [
       "             date      home_team   away_team  home_score  away_score  \\\n",
       "478    1916-07-02          Chile     Uruguay           0           4   \n",
       "480    1916-07-06      Argentina       Chile           6           1   \n",
       "481    1916-07-08         Brazil       Chile           1           1   \n",
       "482    1916-07-10      Argentina      Brazil           1           1   \n",
       "484    1916-07-12         Brazil     Uruguay           1           2   \n",
       "...           ...            ...         ...         ...         ...   \n",
       "48361  2025-06-29         Canada   Guatemala           1           1   \n",
       "48362  2025-06-29  United States  Costa Rica           2           2   \n",
       "48363  2025-07-02  United States   Guatemala           2           1   \n",
       "48364  2025-07-02         Mexico    Honduras           1           0   \n",
       "48365  2025-07-06  United States      Mexico           1           2   \n",
       "\n",
       "         tournament result  home_id  away_id  tournament_id  \n",
       "478    Copa América      A       27      170              2  \n",
       "480    Copa América      H        4       27              2  \n",
       "481    Copa América      D       19       27              2  \n",
       "482    Copa América      D        4       19              2  \n",
       "484    Copa América      A       19      170              2  \n",
       "...             ...    ...      ...      ...            ...  \n",
       "48361      Gold Cup      D       25       65              4  \n",
       "48362      Gold Cup      D      169       33              4  \n",
       "48363      Gold Cup      H      169       65              4  \n",
       "48364      Gold Cup      H      104       70              4  \n",
       "48365      Gold Cup      A      169      104              4  \n",
       "\n",
       "[4654 rows x 10 columns]"
      ],
      "text/html": [
       "<div>\n",
       "<style scoped>\n",
       "    .dataframe tbody tr th:only-of-type {\n",
       "        vertical-align: middle;\n",
       "    }\n",
       "\n",
       "    .dataframe tbody tr th {\n",
       "        vertical-align: top;\n",
       "    }\n",
       "\n",
       "    .dataframe thead th {\n",
       "        text-align: right;\n",
       "    }\n",
       "</style>\n",
       "<table border=\"1\" class=\"dataframe\">\n",
       "  <thead>\n",
       "    <tr style=\"text-align: right;\">\n",
       "      <th></th>\n",
       "      <th>date</th>\n",
       "      <th>home_team</th>\n",
       "      <th>away_team</th>\n",
       "      <th>home_score</th>\n",
       "      <th>away_score</th>\n",
       "      <th>tournament</th>\n",
       "      <th>result</th>\n",
       "      <th>home_id</th>\n",
       "      <th>away_id</th>\n",
       "      <th>tournament_id</th>\n",
       "    </tr>\n",
       "  </thead>\n",
       "  <tbody>\n",
       "    <tr>\n",
       "      <th>478</th>\n",
       "      <td>1916-07-02</td>\n",
       "      <td>Chile</td>\n",
       "      <td>Uruguay</td>\n",
       "      <td>0</td>\n",
       "      <td>4</td>\n",
       "      <td>Copa América</td>\n",
       "      <td>A</td>\n",
       "      <td>27</td>\n",
       "      <td>170</td>\n",
       "      <td>2</td>\n",
       "    </tr>\n",
       "    <tr>\n",
       "      <th>480</th>\n",
       "      <td>1916-07-06</td>\n",
       "      <td>Argentina</td>\n",
       "      <td>Chile</td>\n",
       "      <td>6</td>\n",
       "      <td>1</td>\n",
       "      <td>Copa América</td>\n",
       "      <td>H</td>\n",
       "      <td>4</td>\n",
       "      <td>27</td>\n",
       "      <td>2</td>\n",
       "    </tr>\n",
       "    <tr>\n",
       "      <th>481</th>\n",
       "      <td>1916-07-08</td>\n",
       "      <td>Brazil</td>\n",
       "      <td>Chile</td>\n",
       "      <td>1</td>\n",
       "      <td>1</td>\n",
       "      <td>Copa América</td>\n",
       "      <td>D</td>\n",
       "      <td>19</td>\n",
       "      <td>27</td>\n",
       "      <td>2</td>\n",
       "    </tr>\n",
       "    <tr>\n",
       "      <th>482</th>\n",
       "      <td>1916-07-10</td>\n",
       "      <td>Argentina</td>\n",
       "      <td>Brazil</td>\n",
       "      <td>1</td>\n",
       "      <td>1</td>\n",
       "      <td>Copa América</td>\n",
       "      <td>D</td>\n",
       "      <td>4</td>\n",
       "      <td>19</td>\n",
       "      <td>2</td>\n",
       "    </tr>\n",
       "    <tr>\n",
       "      <th>484</th>\n",
       "      <td>1916-07-12</td>\n",
       "      <td>Brazil</td>\n",
       "      <td>Uruguay</td>\n",
       "      <td>1</td>\n",
       "      <td>2</td>\n",
       "      <td>Copa América</td>\n",
       "      <td>A</td>\n",
       "      <td>19</td>\n",
       "      <td>170</td>\n",
       "      <td>2</td>\n",
       "    </tr>\n",
       "    <tr>\n",
       "      <th>...</th>\n",
       "      <td>...</td>\n",
       "      <td>...</td>\n",
       "      <td>...</td>\n",
       "      <td>...</td>\n",
       "      <td>...</td>\n",
       "      <td>...</td>\n",
       "      <td>...</td>\n",
       "      <td>...</td>\n",
       "      <td>...</td>\n",
       "      <td>...</td>\n",
       "    </tr>\n",
       "    <tr>\n",
       "      <th>48361</th>\n",
       "      <td>2025-06-29</td>\n",
       "      <td>Canada</td>\n",
       "      <td>Guatemala</td>\n",
       "      <td>1</td>\n",
       "      <td>1</td>\n",
       "      <td>Gold Cup</td>\n",
       "      <td>D</td>\n",
       "      <td>25</td>\n",
       "      <td>65</td>\n",
       "      <td>4</td>\n",
       "    </tr>\n",
       "    <tr>\n",
       "      <th>48362</th>\n",
       "      <td>2025-06-29</td>\n",
       "      <td>United States</td>\n",
       "      <td>Costa Rica</td>\n",
       "      <td>2</td>\n",
       "      <td>2</td>\n",
       "      <td>Gold Cup</td>\n",
       "      <td>D</td>\n",
       "      <td>169</td>\n",
       "      <td>33</td>\n",
       "      <td>4</td>\n",
       "    </tr>\n",
       "    <tr>\n",
       "      <th>48363</th>\n",
       "      <td>2025-07-02</td>\n",
       "      <td>United States</td>\n",
       "      <td>Guatemala</td>\n",
       "      <td>2</td>\n",
       "      <td>1</td>\n",
       "      <td>Gold Cup</td>\n",
       "      <td>H</td>\n",
       "      <td>169</td>\n",
       "      <td>65</td>\n",
       "      <td>4</td>\n",
       "    </tr>\n",
       "    <tr>\n",
       "      <th>48364</th>\n",
       "      <td>2025-07-02</td>\n",
       "      <td>Mexico</td>\n",
       "      <td>Honduras</td>\n",
       "      <td>1</td>\n",
       "      <td>0</td>\n",
       "      <td>Gold Cup</td>\n",
       "      <td>H</td>\n",
       "      <td>104</td>\n",
       "      <td>70</td>\n",
       "      <td>4</td>\n",
       "    </tr>\n",
       "    <tr>\n",
       "      <th>48365</th>\n",
       "      <td>2025-07-06</td>\n",
       "      <td>United States</td>\n",
       "      <td>Mexico</td>\n",
       "      <td>1</td>\n",
       "      <td>2</td>\n",
       "      <td>Gold Cup</td>\n",
       "      <td>A</td>\n",
       "      <td>169</td>\n",
       "      <td>104</td>\n",
       "      <td>4</td>\n",
       "    </tr>\n",
       "  </tbody>\n",
       "</table>\n",
       "<p>4654 rows × 10 columns</p>\n",
       "</div>"
      ]
     },
     "execution_count": 78,
     "metadata": {},
     "output_type": "execute_result"
    }
   ],
   "execution_count": 78
  },
  {
   "metadata": {},
   "cell_type": "markdown",
   "source": "*train model:",
   "id": "ea02c40a8b5f0bcf"
  },
  {
   "metadata": {
    "ExecuteTime": {
     "end_time": "2025-08-23T16:25:29.618114Z",
     "start_time": "2025-08-23T16:25:29.606919Z"
    }
   },
   "cell_type": "code",
   "source": [
    "#split data\n",
    "X = df_filtered[features]\n",
    "y = df_filtered[target]\n",
    "\n",
    "# Train-Test-Split\n",
    "X_train, X_test, y_train, y_test = train_test_split(X, y, test_size=0.2, random_state=42)"
   ],
   "id": "56d77c731a79994f",
   "outputs": [],
   "execution_count": 65
  },
  {
   "metadata": {
    "ExecuteTime": {
     "end_time": "2025-08-23T16:25:33.263469Z",
     "start_time": "2025-08-23T16:25:32.588570Z"
    }
   },
   "cell_type": "code",
   "source": [
    "#actual model training\n",
    "model_RF = RandomForestClassifier(n_estimators=100, random_state=42,min_samples_split=2)\n",
    "\n",
    "model_RF.fit(X_train, y_train)\n",
    "\n",
    "y_pred = model_RF.predict(X_test)"
   ],
   "id": "fb239f6b828b04f7",
   "outputs": [],
   "execution_count": 66
  },
  {
   "metadata": {
    "ExecuteTime": {
     "end_time": "2025-08-23T16:25:34.693341Z",
     "start_time": "2025-08-23T16:25:34.657627Z"
    }
   },
   "cell_type": "code",
   "source": [
    "#evaluate model\n",
    "print(f\"Accuracy: {accuracy_score(y_test, y_pred):.2f}\")\n",
    "print(classification_report(y_test, y_pred))"
   ],
   "id": "336c1ae578ffdeec",
   "outputs": [
    {
     "name": "stdout",
     "output_type": "stream",
     "text": [
      "Accuracy: 0.44\n",
      "              precision    recall  f1-score   support\n",
      "\n",
      "           A       0.44      0.40      0.42       295\n",
      "           D       0.25      0.19      0.22       221\n",
      "           H       0.50      0.59      0.54       415\n",
      "\n",
      "    accuracy                           0.44       931\n",
      "   macro avg       0.40      0.40      0.39       931\n",
      "weighted avg       0.42      0.44      0.43       931\n",
      "\n"
     ]
    }
   ],
   "execution_count": 67
  },
  {
   "metadata": {
    "ExecuteTime": {
     "end_time": "2025-08-23T16:28:25.154094Z",
     "start_time": "2025-08-23T16:28:24.875642Z"
    }
   },
   "cell_type": "code",
   "source": [
    "# Feature Importance des Modells\n",
    "feature_importance = pd.Series(model_RF.feature_importances_, index=features)\n",
    "feature_importance = feature_importance.sort_values(ascending=False)\n",
    "\n",
    "plt.figure(figsize=(10, 6))\n",
    "feature_importance.plot(kind='bar')\n",
    "plt.title('importance of feautures for prediction', fontsize=16, fontweight='bold')\n",
    "plt.ylabel('importance')\n",
    "plt.tight_layout()\n",
    "plt.show()"
   ],
   "id": "33a01fadf1d5f496",
   "outputs": [
    {
     "data": {
      "text/plain": [
       "<Figure size 1000x600 with 1 Axes>"
      ],
      "image/png": "[encoded data removed]"
     },
     "metadata": {},
     "output_type": "display_data"
    }
   ],
   "execution_count": 72
  },
  {
   "metadata": {
    "ExecuteTime": {
     "end_time": "2025-08-23T16:29:47.156518Z",
     "start_time": "2025-08-23T16:29:46.790196Z"
    }
   },
   "cell_type": "code",
   "source": [
    "# Confusion Matrix\n",
    "cm = confusion_matrix(y_test, y_pred, labels=['H', 'A', 'D'])\n",
    "\n",
    "disp = ConfusionMatrixDisplay(confusion_matrix=cm, display_labels=['home win', 'away win', 'draw'])\n",
    "disp.plot(cmap='Blues')\n",
    "plt.title('confusion matrix of model', fontsize=16, fontweight='bold')\n",
    "plt.tight_layout()\n",
    "plt.show()"
   ],
   "id": "77adf9c0876a62e",
   "outputs": [
    {
     "data": {
      "text/plain": [
       "<Figure size 640x480 with 2 Axes>"
      ],
      "image/png": "[encoded data removed]"
     },
     "metadata": {},
     "output_type": "display_data"
    }
   ],
   "execution_count": 76
  }
 ],
 "metadata": {
  "kernelspec": {
   "display_name": "Python 3",
   "language": "python",
   "name": "python3"
  },
  "language_info": {
   "codemirror_mode": {
    "name": "ipython",
    "version": 2
   },
   "file_extension": ".py",
   "mimetype": "text/x-python",
   "name": "python",
   "nbconvert_exporter": "python",
   "pygments_lexer": "ipython2",
   "version": "2.7.6"
  }
 },
 "nbformat": 4,
 "nbformat_minor": 5
}
